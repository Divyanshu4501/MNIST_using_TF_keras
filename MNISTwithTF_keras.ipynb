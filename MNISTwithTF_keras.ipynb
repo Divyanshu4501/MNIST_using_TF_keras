{
 "cells": [
  {
   "cell_type": "code",
   "execution_count": 1,
   "id": "21fa2c50",
   "metadata": {},
   "outputs": [
    {
     "name": "stderr",
     "output_type": "stream",
     "text": [
      "2025-09-13 14:37:44.843111: I tensorflow/core/platform/cpu_feature_guard.cc:210] This TensorFlow binary is optimized to use available CPU instructions in performance-critical operations.\n",
      "To enable the following instructions: SSE4.1 SSE4.2 AVX AVX2 FMA, in other operations, rebuild TensorFlow with the appropriate compiler flags.\n",
      "/home/divyanshu/anaconda3/envs/venv/lib/python3.12/site-packages/requests/__init__.py:86: RequestsDependencyWarning: Unable to find acceptable character detection dependency (chardet or charset_normalizer).\n",
      "  warnings.warn(\n"
     ]
    }
   ],
   "source": [
    "import tensorflow as tf\n",
    "import numpy as np\n",
    "from tensorflow import keras\n",
    "from tensorflow.keras.datasets import mnist\n",
    "import matplotlib.pyplot as plt"
   ]
  },
  {
   "cell_type": "code",
   "execution_count": 2,
   "id": "c37f8e88",
   "metadata": {},
   "outputs": [],
   "source": [
    "class NaiveDense:\n",
    "    def __init__(self, input_size, output_size, activation):\n",
    "        self.activation = activation\n",
    "\n",
    "        w_shape = (input_size,output_size)\n",
    "        w_initial_value = tf.random.uniform(w_shape, minval=-0.05,maxval=0.05)\n",
    "        self.w = tf.Variable(w_initial_value)\n",
    "\n",
    "        b_shape = (output_size,)\n",
    "        b_initial_value = tf.zeros(b_shape)\n",
    "        self.b = tf.Variable(b_initial_value)\n",
    "\n",
    "    def __call__(self, inputs):\n",
    "        return self.activation(tf.matmul(inputs,self.w)+self.b)\n",
    "\n",
    "    @property\n",
    "    def weights(self):\n",
    "        return self.w,self.b"
   ]
  },
  {
   "cell_type": "code",
   "execution_count": 3,
   "id": "1eebd01c",
   "metadata": {},
   "outputs": [],
   "source": [
    "class NaiveSequential:\n",
    "    def __init__(self, layers):\n",
    "        self.layers = layers\n",
    "\n",
    "    def __call__(self, inputs):\n",
    "        x = inputs\n",
    "        for layer in self.layers:\n",
    "            x = layer(x)\n",
    "        return x\n",
    "    \n",
    "    @property\n",
    "    def weights(self):\n",
    "        weights = []\n",
    "        for layer in self.layers:\n",
    "            weights += layer.weights\n",
    "        return weights"
   ]
  },
  {
   "cell_type": "code",
   "execution_count": 4,
   "id": "2adc9df3",
   "metadata": {},
   "outputs": [],
   "source": [
    "model = NaiveSequential([NaiveDense(input_size=28*28, output_size=512, activation=tf.nn.relu),\n",
    "                         NaiveDense(input_size=512, output_size=10, activation=tf.nn.softmax)\n",
    "])"
   ]
  },
  {
   "cell_type": "code",
   "execution_count": 5,
   "id": "d9a06ed6",
   "metadata": {},
   "outputs": [],
   "source": [
    "(train_images,train_labels),(test_images,test_labels) = mnist.load_data()\n"
   ]
  },
  {
   "cell_type": "code",
   "execution_count": 6,
   "id": "49598383",
   "metadata": {},
   "outputs": [
    {
     "data": {
      "text/plain": [
       "<matplotlib.image.AxesImage at 0x79f213af3c20>"
      ]
     },
     "execution_count": 6,
     "metadata": {},
     "output_type": "execute_result"
    },
    {
     "data": {
      "image/png": "[encoded data removed]",
      "text/plain": [
       "<Figure size 640x480 with 1 Axes>"
      ]
     },
     "metadata": {},
     "output_type": "display_data"
    }
   ],
   "source": [
    "idx=7\n",
    "plt.imshow(train_images[idx])"
   ]
  },
  {
   "cell_type": "code",
   "execution_count": 7,
   "id": "3a67f20d",
   "metadata": {},
   "outputs": [],
   "source": [
    "train_images = train_images.reshape((len(train_images),28*28)).astype(\"float32\")/255\n",
    "test_images = test_images.reshape((len(test_images),28*28)).astype(\"float32\")/255\n"
   ]
  },
  {
   "cell_type": "code",
   "execution_count": 8,
   "id": "51eef2b2",
   "metadata": {},
   "outputs": [],
   "source": [
    "import math"
   ]
  },
  {
   "cell_type": "code",
   "execution_count": 9,
   "id": "6a89c29c",
   "metadata": {},
   "outputs": [],
   "source": [
    "class BatchGenerator:\n",
    "\n",
    "    def __init__(self, images, label, batch_size=128):\n",
    "        self.index = 0\n",
    "        self.images = images\n",
    "        self.label = label\n",
    "        self.batch_size = batch_size\n",
    "        self.num_batches = math.ceil(len(images)/batch_size)\n",
    "\n",
    "    def next(self):\n",
    "        images = self.images[self.index: self.index+self.batch_size]\n",
    "        label = self.label[self.index: self.index+self.batch_size]\n",
    "        self.index += self.batch_size\n",
    "        return images,label\n"
   ]
  },
  {
   "cell_type": "code",
   "execution_count": 10,
   "id": "ef4edeae",
   "metadata": {},
   "outputs": [],
   "source": [
    "from tensorflow.keras import optimizers\n",
    "optimizer = optimizers.SGD(learning_rate=1e-3)"
   ]
  },
  {
   "cell_type": "code",
   "execution_count": 11,
   "id": "050db222",
   "metadata": {},
   "outputs": [],
   "source": [
    "\n",
    "\n",
    "def update_weights(gradients,weights):\n",
    "    optimizer.apply_gradients(zip(gradients,weights))"
   ]
  },
  {
   "cell_type": "code",
   "execution_count": 12,
   "id": "c802e1c5",
   "metadata": {},
   "outputs": [],
   "source": [
    "def one_training_set(model,images_batch, labels_batch):\n",
    "    with tf.GradientTape() as tape:\n",
    "        prediction = model(images_batch)\n",
    "        per_sample_loss = keras.losses.sparse_categorical_crossentropy(labels_batch,prediction)\n",
    "        average_loss = tf.reduce_mean(per_sample_loss)\n",
    "    gradients = tape.gradient(average_loss,model.weights)    \n",
    "    update_weights(gradients,model.weights)\n",
    "    return average_loss"
   ]
  },
  {
   "cell_type": "code",
   "execution_count": 13,
   "id": "471fcfe7",
   "metadata": {},
   "outputs": [],
   "source": [
    "def fit(model, images, labels, epochs, batch_size = 128):\n",
    "    for epoch in range(epochs):\n",
    "        print(f\"Epoch: {epoch}\")\n",
    "        batch_generator = BatchGenerator(images, labels)\n",
    "        for batch_counter in range(batch_generator.num_batches):\n",
    "            images_batch, labels_batch = batch_generator.next()\n",
    "            loss = one_training_set(model, images_batch, labels_batch)\n",
    "        print(f\"Loss: {loss}\")\n"
   ]
  },
  {
   "cell_type": "code",
   "execution_count": 14,
   "id": "ef6d1d31",
   "metadata": {},
   "outputs": [
    {
     "name": "stdout",
     "output_type": "stream",
     "text": [
      "Epoch: 0\n",
      "Loss: 2.199734687805176\n",
      "Epoch: 1\n",
      "Loss: 2.068112850189209\n",
      "Epoch: 2\n",
      "Loss: 1.9260214567184448\n",
      "Epoch: 3\n",
      "Loss: 1.773749828338623\n",
      "Epoch: 4\n",
      "Loss: 1.6186875104904175\n",
      "Epoch: 5\n",
      "Loss: 1.4706660509109497\n",
      "Epoch: 6\n",
      "Loss: 1.337325096130371\n",
      "Epoch: 7\n",
      "Loss: 1.2220878601074219\n",
      "Epoch: 8\n",
      "Loss: 1.124442458152771\n",
      "Epoch: 9\n",
      "Loss: 1.042457938194275\n",
      "Epoch: 10\n",
      "Loss: 0.9734058976173401\n",
      "Epoch: 11\n",
      "Loss: 0.9149531722068787\n",
      "Epoch: 12\n",
      "Loss: 0.8650521636009216\n",
      "Epoch: 13\n",
      "Loss: 0.8220440745353699\n",
      "Epoch: 14\n",
      "Loss: 0.7846837043762207\n",
      "Epoch: 15\n",
      "Loss: 0.7519391179084778\n",
      "Epoch: 16\n",
      "Loss: 0.7230003476142883\n",
      "Epoch: 17\n",
      "Loss: 0.6972536444664001\n",
      "Epoch: 18\n",
      "Loss: 0.6742135882377625\n",
      "Epoch: 19\n",
      "Loss: 0.6534709334373474\n",
      "Epoch: 20\n",
      "Loss: 0.6347311735153198\n",
      "Epoch: 21\n",
      "Loss: 0.6177073121070862\n",
      "Epoch: 22\n",
      "Loss: 0.6021817326545715\n",
      "Epoch: 23\n",
      "Loss: 0.5879636406898499\n",
      "Epoch: 24\n",
      "Loss: 0.5749068856239319\n",
      "Epoch: 25\n",
      "Loss: 0.5628736019134521\n",
      "Epoch: 26\n",
      "Loss: 0.5517545342445374\n",
      "Epoch: 27\n",
      "Loss: 0.5414493083953857\n",
      "Epoch: 28\n",
      "Loss: 0.5318664312362671\n",
      "Epoch: 29\n",
      "Loss: 0.5229318141937256\n",
      "Epoch: 30\n",
      "Loss: 0.5145828723907471\n",
      "Epoch: 31\n",
      "Loss: 0.5067744255065918\n",
      "Epoch: 32\n",
      "Loss: 0.4994570016860962\n",
      "Epoch: 33\n",
      "Loss: 0.49258875846862793\n",
      "Epoch: 34\n",
      "Loss: 0.48612090945243835\n",
      "Epoch: 35\n",
      "Loss: 0.48003196716308594\n",
      "Epoch: 36\n",
      "Loss: 0.4742855131626129\n",
      "Epoch: 37\n",
      "Loss: 0.46884945034980774\n",
      "Epoch: 38\n",
      "Loss: 0.463696151971817\n",
      "Epoch: 39\n",
      "Loss: 0.45880499482154846\n",
      "Epoch: 40\n",
      "Loss: 0.45416226983070374\n",
      "Epoch: 41\n",
      "Loss: 0.449747234582901\n",
      "Epoch: 42\n",
      "Loss: 0.44554439187049866\n",
      "Epoch: 43\n",
      "Loss: 0.4415377378463745\n",
      "Epoch: 44\n",
      "Loss: 0.43771448731422424\n",
      "Epoch: 45\n",
      "Loss: 0.43405476212501526\n",
      "Epoch: 46\n",
      "Loss: 0.43055593967437744\n",
      "Epoch: 47\n",
      "Loss: 0.42720723152160645\n",
      "Epoch: 48\n",
      "Loss: 0.4239923655986786\n",
      "Epoch: 49\n",
      "Loss: 0.4209057092666626\n",
      "Epoch: 50\n",
      "Loss: 0.4179421365261078\n",
      "Epoch: 51\n",
      "Loss: 0.4150868356227875\n",
      "Epoch: 52\n",
      "Loss: 0.4123416841030121\n",
      "Epoch: 53\n",
      "Loss: 0.4096916615962982\n",
      "Epoch: 54\n",
      "Loss: 0.40713754296302795\n",
      "Epoch: 55\n",
      "Loss: 0.40467679500579834\n",
      "Epoch: 56\n",
      "Loss: 0.4023036062717438\n",
      "Epoch: 57\n",
      "Loss: 0.4000144302845001\n",
      "Epoch: 58\n",
      "Loss: 0.39779892563819885\n",
      "Epoch: 59\n",
      "Loss: 0.39565810561180115\n",
      "Epoch: 60\n",
      "Loss: 0.39358535408973694\n",
      "Epoch: 61\n",
      "Loss: 0.3915735185146332\n",
      "Epoch: 62\n",
      "Loss: 0.3896150588989258\n",
      "Epoch: 63\n",
      "Loss: 0.38771557807922363\n",
      "Epoch: 64\n",
      "Loss: 0.38586607575416565\n",
      "Epoch: 65\n",
      "Loss: 0.3840688169002533\n",
      "Epoch: 66\n",
      "Loss: 0.3823157250881195\n",
      "Epoch: 67\n",
      "Loss: 0.3806084096431732\n",
      "Epoch: 68\n",
      "Loss: 0.3789440095424652\n",
      "Epoch: 69\n",
      "Loss: 0.37731778621673584\n",
      "Epoch: 70\n",
      "Loss: 0.37573495507240295\n",
      "Epoch: 71\n",
      "Loss: 0.37419047951698303\n",
      "Epoch: 72\n",
      "Loss: 0.3726740777492523\n",
      "Epoch: 73\n",
      "Loss: 0.3711877763271332\n",
      "Epoch: 74\n",
      "Loss: 0.3697328567504883\n",
      "Epoch: 75\n",
      "Loss: 0.36830830574035645\n",
      "Epoch: 76\n",
      "Loss: 0.3669159710407257\n",
      "Epoch: 77\n",
      "Loss: 0.3655543029308319\n",
      "Epoch: 78\n",
      "Loss: 0.3642144203186035\n",
      "Epoch: 79\n",
      "Loss: 0.36289656162261963\n",
      "Epoch: 80\n",
      "Loss: 0.36160191893577576\n",
      "Epoch: 81\n",
      "Loss: 0.360329270362854\n",
      "Epoch: 82\n",
      "Loss: 0.35908183455467224\n",
      "Epoch: 83\n",
      "Loss: 0.3578619062900543\n",
      "Epoch: 84\n",
      "Loss: 0.3566667139530182\n",
      "Epoch: 85\n",
      "Loss: 0.35549625754356384\n",
      "Epoch: 86\n",
      "Loss: 0.35434675216674805\n",
      "Epoch: 87\n",
      "Loss: 0.3532145023345947\n",
      "Epoch: 88\n",
      "Loss: 0.35209670662879944\n",
      "Epoch: 89\n",
      "Loss: 0.3509993553161621\n",
      "Epoch: 90\n",
      "Loss: 0.3499176502227783\n",
      "Epoch: 91\n",
      "Loss: 0.3488601744174957\n",
      "Epoch: 92\n",
      "Loss: 0.3478194773197174\n",
      "Epoch: 93\n",
      "Loss: 0.34679344296455383\n",
      "Epoch: 94\n",
      "Loss: 0.3457874357700348\n",
      "Epoch: 95\n",
      "Loss: 0.34480080008506775\n",
      "Epoch: 96\n",
      "Loss: 0.3438285291194916\n",
      "Epoch: 97\n",
      "Loss: 0.34286558628082275\n",
      "Epoch: 98\n",
      "Loss: 0.3419170677661896\n",
      "Epoch: 99\n",
      "Loss: 0.3409813940525055\n"
     ]
    }
   ],
   "source": [
    "fit(model, train_images,train_labels,epochs=100, batch_size=128)"
   ]
  },
  {
   "cell_type": "code",
   "execution_count": 15,
   "id": "6485115a",
   "metadata": {},
   "outputs": [
    {
     "name": "stdout",
     "output_type": "stream",
     "text": [
      "accuracy: 0.92\n"
     ]
    }
   ],
   "source": [
    "predictions = model(test_images).numpy()\n",
    "predicted_labels = np.argmax(predictions, axis = 1)\n",
    "matches = predicted_labels == test_labels\n",
    "print(f\"accuracy: {matches.mean():.2f}\")"
   ]
  },
  {
   "cell_type": "code",
   "execution_count": 16,
   "id": "30722b1d",
   "metadata": {},
   "outputs": [
    {
     "name": "stdout",
     "output_type": "stream",
     "text": [
      "predicted:4\n",
      " actual:4\n"
     ]
    },
    {
     "data": {
      "image/png": "[encoded data removed]",
      "text/plain": [
       "<Figure size 640x480 with 1 Axes>"
      ]
     },
     "metadata": {},
     "output_type": "display_data"
    }
   ],
   "source": [
    "idx = 49\n",
    "plt.imshow(test_images[idx].reshape(28,28))\n",
    "print(f\"predicted:{predicted_labels[idx]}\\n actual:{test_labels[idx]}\")"
   ]
  },
  {
   "cell_type": "code",
   "execution_count": null,
   "id": "26958395",
   "metadata": {},
   "outputs": [],
   "source": []
  },
  {
   "cell_type": "code",
   "execution_count": null,
   "id": "6789c329",
   "metadata": {},
   "outputs": [],
   "source": []
  }
 ],
 "metadata": {
  "kernelspec": {
   "display_name": "venv",
   "language": "python",
   "name": "python3"
  },
  "language_info": {
   "codemirror_mode": {
    "name": "ipython",
    "version": 3
   },
   "file_extension": ".py",
   "mimetype": "text/x-python",
   "name": "python",
   "nbconvert_exporter": "python",
   "pygments_lexer": "ipython3",
   "version": "3.12.11"
  }
 },
 "nbformat": 4,
 "nbformat_minor": 5
}
